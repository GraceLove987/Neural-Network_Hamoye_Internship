{
  "nbformat": 4,
  "nbformat_minor": 0,
  "metadata": {
    "colab": {
      "provenance": []
    },
    "kernelspec": {
      "name": "python3",
      "display_name": "Python 3"
    },
    "language_info": {
      "name": "python"
    }
  },
  "cells": [
    {
      "cell_type": "code",
      "execution_count": null,
      "metadata": {
        "colab": {
          "base_uri": "https://localhost:8080/"
        },
        "id": "Pd0Ik0JmHvGx",
        "outputId": "4e9577b2-07a4-4c06-8e8d-bf583d11a699"
      },
      "outputs": [
        {
          "output_type": "stream",
          "name": "stdout",
          "text": [
            "Requirement already satisfied: tensorflow in /usr/local/lib/python3.10/dist-packages (2.15.0)\n",
            "Requirement already satisfied: absl-py>=1.0.0 in /usr/local/lib/python3.10/dist-packages (from tensorflow) (1.4.0)\n",
            "Requirement already satisfied: astunparse>=1.6.0 in /usr/local/lib/python3.10/dist-packages (from tensorflow) (1.6.3)\n",
            "Requirement already satisfied: flatbuffers>=23.5.26 in /usr/local/lib/python3.10/dist-packages (from tensorflow) (24.3.25)\n",
            "Requirement already satisfied: gast!=0.5.0,!=0.5.1,!=0.5.2,>=0.2.1 in /usr/local/lib/python3.10/dist-packages (from tensorflow) (0.5.4)\n",
            "Requirement already satisfied: google-pasta>=0.1.1 in /usr/local/lib/python3.10/dist-packages (from tensorflow) (0.2.0)\n",
            "Requirement already satisfied: h5py>=2.9.0 in /usr/local/lib/python3.10/dist-packages (from tensorflow) (3.9.0)\n",
            "Requirement already satisfied: libclang>=13.0.0 in /usr/local/lib/python3.10/dist-packages (from tensorflow) (18.1.1)\n",
            "Requirement already satisfied: ml-dtypes~=0.2.0 in /usr/local/lib/python3.10/dist-packages (from tensorflow) (0.2.0)\n",
            "Requirement already satisfied: numpy<2.0.0,>=1.23.5 in /usr/local/lib/python3.10/dist-packages (from tensorflow) (1.25.2)\n",
            "Requirement already satisfied: opt-einsum>=2.3.2 in /usr/local/lib/python3.10/dist-packages (from tensorflow) (3.3.0)\n",
            "Requirement already satisfied: packaging in /usr/local/lib/python3.10/dist-packages (from tensorflow) (24.0)\n",
            "Requirement already satisfied: protobuf!=4.21.0,!=4.21.1,!=4.21.2,!=4.21.3,!=4.21.4,!=4.21.5,<5.0.0dev,>=3.20.3 in /usr/local/lib/python3.10/dist-packages (from tensorflow) (3.20.3)\n",
            "Requirement already satisfied: setuptools in /usr/local/lib/python3.10/dist-packages (from tensorflow) (67.7.2)\n",
            "Requirement already satisfied: six>=1.12.0 in /usr/local/lib/python3.10/dist-packages (from tensorflow) (1.16.0)\n",
            "Requirement already satisfied: termcolor>=1.1.0 in /usr/local/lib/python3.10/dist-packages (from tensorflow) (2.4.0)\n",
            "Requirement already satisfied: typing-extensions>=3.6.6 in /usr/local/lib/python3.10/dist-packages (from tensorflow) (4.11.0)\n",
            "Requirement already satisfied: wrapt<1.15,>=1.11.0 in /usr/local/lib/python3.10/dist-packages (from tensorflow) (1.14.1)\n",
            "Requirement already satisfied: tensorflow-io-gcs-filesystem>=0.23.1 in /usr/local/lib/python3.10/dist-packages (from tensorflow) (0.37.0)\n",
            "Requirement already satisfied: grpcio<2.0,>=1.24.3 in /usr/local/lib/python3.10/dist-packages (from tensorflow) (1.64.0)\n",
            "Requirement already satisfied: tensorboard<2.16,>=2.15 in /usr/local/lib/python3.10/dist-packages (from tensorflow) (2.15.2)\n",
            "Requirement already satisfied: tensorflow-estimator<2.16,>=2.15.0 in /usr/local/lib/python3.10/dist-packages (from tensorflow) (2.15.0)\n",
            "Requirement already satisfied: keras<2.16,>=2.15.0 in /usr/local/lib/python3.10/dist-packages (from tensorflow) (2.15.0)\n",
            "Requirement already satisfied: wheel<1.0,>=0.23.0 in /usr/local/lib/python3.10/dist-packages (from astunparse>=1.6.0->tensorflow) (0.43.0)\n",
            "Requirement already satisfied: google-auth<3,>=1.6.3 in /usr/local/lib/python3.10/dist-packages (from tensorboard<2.16,>=2.15->tensorflow) (2.27.0)\n",
            "Requirement already satisfied: google-auth-oauthlib<2,>=0.5 in /usr/local/lib/python3.10/dist-packages (from tensorboard<2.16,>=2.15->tensorflow) (1.2.0)\n",
            "Requirement already satisfied: markdown>=2.6.8 in /usr/local/lib/python3.10/dist-packages (from tensorboard<2.16,>=2.15->tensorflow) (3.6)\n",
            "Requirement already satisfied: requests<3,>=2.21.0 in /usr/local/lib/python3.10/dist-packages (from tensorboard<2.16,>=2.15->tensorflow) (2.31.0)\n",
            "Requirement already satisfied: tensorboard-data-server<0.8.0,>=0.7.0 in /usr/local/lib/python3.10/dist-packages (from tensorboard<2.16,>=2.15->tensorflow) (0.7.2)\n",
            "Requirement already satisfied: werkzeug>=1.0.1 in /usr/local/lib/python3.10/dist-packages (from tensorboard<2.16,>=2.15->tensorflow) (3.0.3)\n",
            "Requirement already satisfied: cachetools<6.0,>=2.0.0 in /usr/local/lib/python3.10/dist-packages (from google-auth<3,>=1.6.3->tensorboard<2.16,>=2.15->tensorflow) (5.3.3)\n",
            "Requirement already satisfied: pyasn1-modules>=0.2.1 in /usr/local/lib/python3.10/dist-packages (from google-auth<3,>=1.6.3->tensorboard<2.16,>=2.15->tensorflow) (0.4.0)\n",
            "Requirement already satisfied: rsa<5,>=3.1.4 in /usr/local/lib/python3.10/dist-packages (from google-auth<3,>=1.6.3->tensorboard<2.16,>=2.15->tensorflow) (4.9)\n",
            "Requirement already satisfied: requests-oauthlib>=0.7.0 in /usr/local/lib/python3.10/dist-packages (from google-auth-oauthlib<2,>=0.5->tensorboard<2.16,>=2.15->tensorflow) (1.3.1)\n",
            "Requirement already satisfied: charset-normalizer<4,>=2 in /usr/local/lib/python3.10/dist-packages (from requests<3,>=2.21.0->tensorboard<2.16,>=2.15->tensorflow) (3.3.2)\n",
            "Requirement already satisfied: idna<4,>=2.5 in /usr/local/lib/python3.10/dist-packages (from requests<3,>=2.21.0->tensorboard<2.16,>=2.15->tensorflow) (3.7)\n",
            "Requirement already satisfied: urllib3<3,>=1.21.1 in /usr/local/lib/python3.10/dist-packages (from requests<3,>=2.21.0->tensorboard<2.16,>=2.15->tensorflow) (2.0.7)\n",
            "Requirement already satisfied: certifi>=2017.4.17 in /usr/local/lib/python3.10/dist-packages (from requests<3,>=2.21.0->tensorboard<2.16,>=2.15->tensorflow) (2024.2.2)\n",
            "Requirement already satisfied: MarkupSafe>=2.1.1 in /usr/local/lib/python3.10/dist-packages (from werkzeug>=1.0.1->tensorboard<2.16,>=2.15->tensorflow) (2.1.5)\n",
            "Requirement already satisfied: pyasn1<0.7.0,>=0.4.6 in /usr/local/lib/python3.10/dist-packages (from pyasn1-modules>=0.2.1->google-auth<3,>=1.6.3->tensorboard<2.16,>=2.15->tensorflow) (0.6.0)\n",
            "Requirement already satisfied: oauthlib>=3.0.0 in /usr/local/lib/python3.10/dist-packages (from requests-oauthlib>=0.7.0->google-auth-oauthlib<2,>=0.5->tensorboard<2.16,>=2.15->tensorflow) (3.2.2)\n"
          ]
        }
      ],
      "source": [
        "pip install tensorflow"
      ]
    },
    {
      "cell_type": "code",
      "source": [
        "import tensorflow as tf\n",
        "print(tf.__version__)\n"
      ],
      "metadata": {
        "colab": {
          "base_uri": "https://localhost:8080/"
        },
        "id": "7Q2DL2IEKtmf",
        "outputId": "def800c6-2e41-4b0a-9f56-9bf29acf3f42"
      },
      "execution_count": null,
      "outputs": [
        {
          "output_type": "stream",
          "name": "stdout",
          "text": [
            "2.15.0\n"
          ]
        }
      ]
    },
    {
      "cell_type": "code",
      "source": [
        "import numpy as np\n",
        "import matplotlib.pyplot as plt\n",
        "import tensorflow as tf\n",
        "from tensorflow import keras\n",
        "mnist = keras.datasets.mnist\n",
        "(train_images, train_labels), (test_images, test_labels) = mnist.load_data()\n",
        "print(\"Training data: {}, {}\".format(train_images.shape, train_labels.shape))\n",
        "# prints Training data: (60000, 28, 28), (60000,)\n",
        "print(\"Test data: {}, {}\".format(test_images.shape, test_labels.shape))\n",
        "# prints Test data: (10000, 28, 28), (10000,)\n",
        "class_labels = np.unique(train_labels)\n",
        "print(\"There are {} classes in the dataset. They are: {}\".format(len(class_labels), class_labels))\n"
      ],
      "metadata": {
        "colab": {
          "base_uri": "https://localhost:8080/"
        },
        "id": "iVOTZTK2MSwJ",
        "outputId": "be883f28-b8ba-4812-c9ef-7487788d862d"
      },
      "execution_count": null,
      "outputs": [
        {
          "output_type": "stream",
          "name": "stdout",
          "text": [
            "Downloading data from https://storage.googleapis.com/tensorflow/tf-keras-datasets/mnist.npz\n",
            "11490434/11490434 [==============================] - 0s 0us/step\n",
            "Training data: (60000, 28, 28), (60000,)\n",
            "Test data: (10000, 28, 28), (10000,)\n",
            "There are 10 classes in the dataset. They are: [0 1 2 3 4 5 6 7 8 9]\n"
          ]
        }
      ]
    },
    {
      "cell_type": "code",
      "source": [
        "plt.figure(figsize=(8, 5))\n",
        "plt.subplot(1,3,1)\n",
        "plt.imshow(train_images[0])\n",
        "plt.title(\"Label: {}\".format(train_labels[0]))\n",
        "plt.subplot(1,3,2)\n",
        "plt.imshow(train_images[2500])\n",
        "plt.title(\"Label: {}\".format(train_labels[2500]))\n",
        "plt.subplot(1,3,3)\n",
        "plt.imshow(test_images[12])\n",
        "plt.show()\n"
      ],
      "metadata": {
        "id": "CZfHUSogMe0H",
        "colab": {
          "base_uri": "https://localhost:8080/",
          "height": 265
        },
        "outputId": "456d61a9-cde3-4219-84a1-a21ee3cea58d"
      },
      "execution_count": null,
      "outputs": [
        {
          "output_type": "display_data",
          "data": {
            "text/plain": [
              "<Figure size 800x500 with 3 Axes>"
            ],
            "image/png": "[encoded data removed]"
          },
          "metadata": {}
        }
      ]
    },
    {
      "cell_type": "code",
      "source": [
        "train_images = train_images / 255.0\n",
        "test_images = test_images / 255.0"
      ],
      "metadata": {
        "id": "dIbD60zvxflb"
      },
      "execution_count": null,
      "outputs": []
    },
    {
      "cell_type": "code",
      "source": [
        "x_train = train_images[0:50000]\n",
        "x_val = train_images[50000:]\n",
        "y_train = train_labels[0:50000]\n",
        "y_val = train_labels[50000:]\n",
        "print(\"x_train: {}\".format(x_train.shape)) # prints x_train: (50000, 28, 28)\n",
        "print(\"x_val: {}\".format(x_val.shape)) # prints x_val: (10000, 28, 28)\n",
        "print(\"y_train: {}\".format(y_train.shape)) #prints y_train: (50000,)\n",
        "print(\"y_val: {}\".format(y_val.shape)) #prints y_val: (10000,)"
      ],
      "metadata": {
        "colab": {
          "base_uri": "https://localhost:8080/"
        },
        "id": "eBE9KSXnxrUN",
        "outputId": "cf7938db-dd20-47ef-9a84-24205543f8bd"
      },
      "execution_count": null,
      "outputs": [
        {
          "output_type": "stream",
          "name": "stdout",
          "text": [
            "x_train: (50000, 28, 28)\n",
            "x_val: (10000, 28, 28)\n",
            "y_train: (50000,)\n",
            "y_val: (10000,)\n"
          ]
        }
      ]
    },
    {
      "cell_type": "code",
      "source": [
        "new_dimension = np.prod(train_images.shape[1:])\n",
        "x_train = x_train.reshape(x_train.shape[0], new_dimension)\n",
        "x_val = x_val.reshape(x_val.shape[0], new_dimension)\n",
        "test_images = test_images.reshape(test_images.shape[0], new_dimension)\n",
        "print(\"x_train: {}\".format(x_train.shape)) #prints x_train: (50000, 784)\n",
        "print(\"x_val: {}\".format(x_val.shape)) #prints x_val: (10000, 784)\n",
        "print(\"test_images: {}\".format(test_images.shape)) #prints test_images: (10000, 784)\n"
      ],
      "metadata": {
        "colab": {
          "base_uri": "https://localhost:8080/"
        },
        "id": "w2ANVlZ3x4Jo",
        "outputId": "d6173d5c-93e3-4ca6-926f-3b5a7fc6f334"
      },
      "execution_count": null,
      "outputs": [
        {
          "output_type": "stream",
          "name": "stdout",
          "text": [
            "x_train: (50000, 784)\n",
            "x_val: (10000, 784)\n",
            "test_images: (10000, 784)\n"
          ]
        }
      ]
    },
    {
      "cell_type": "code",
      "source": [
        "from tensorflow.keras.utils import to_categorical\n",
        "no_labels = 10\n",
        "y_train = to_categorical(y_train, no_labels)\n",
        "y_val = to_categorical(y_val, no_labels)\n",
        "y_test = to_categorical(test_labels, no_labels)\n",
        "\n"
      ],
      "metadata": {
        "id": "wxqWW8zGyEyL"
      },
      "execution_count": null,
      "outputs": []
    },
    {
      "cell_type": "code",
      "source": [
        "X = tf.placeholder(tf.float32, [None, new_dimension])\n",
        "Y = tf.placeholder(tf.float32, [None, no_labels])\n",
        "# create model architecture\n",
        "def multilayer_perceptron(x, no_classes, first_layer_neurons=256, second_layer_neurons=128):\n",
        "  first_weight = tf.Variable(tf.random_uniform([new_dimension, first_layer_neurons]))\n",
        "  first_bias = tf.Variable(tf.zeros([first_layer_neurons]))\n",
        "  first_layer_output = tf.nn.relu(tf.add(tf.matmul(x, first_weight), first_bias))"
      ],
      "metadata": {
        "colab": {
          "base_uri": "https://localhost:8080/",
          "height": 211
        },
        "id": "Q8ylrRbTjKve",
        "outputId": "e321157f-ff38-4206-88af-47f1dad63dc1"
      },
      "execution_count": null,
      "outputs": [
        {
          "output_type": "error",
          "ename": "AttributeError",
          "evalue": "module 'tensorflow' has no attribute 'placeholder'",
          "traceback": [
            "\u001b[0;31m---------------------------------------------------------------------------\u001b[0m",
            "\u001b[0;31mAttributeError\u001b[0m                            Traceback (most recent call last)",
            "\u001b[0;32m<ipython-input-9-818e35deacd0>\u001b[0m in \u001b[0;36m<cell line: 1>\u001b[0;34m()\u001b[0m\n\u001b[0;32m----> 1\u001b[0;31m \u001b[0mX\u001b[0m \u001b[0;34m=\u001b[0m \u001b[0mtf\u001b[0m\u001b[0;34m.\u001b[0m\u001b[0mplaceholder\u001b[0m\u001b[0;34m(\u001b[0m\u001b[0mtf\u001b[0m\u001b[0;34m.\u001b[0m\u001b[0mfloat32\u001b[0m\u001b[0;34m,\u001b[0m \u001b[0;34m[\u001b[0m\u001b[0;32mNone\u001b[0m\u001b[0;34m,\u001b[0m \u001b[0mnew_dimension\u001b[0m\u001b[0;34m]\u001b[0m\u001b[0;34m)\u001b[0m\u001b[0;34m\u001b[0m\u001b[0;34m\u001b[0m\u001b[0m\n\u001b[0m\u001b[1;32m      2\u001b[0m \u001b[0mY\u001b[0m \u001b[0;34m=\u001b[0m \u001b[0mtf\u001b[0m\u001b[0;34m.\u001b[0m\u001b[0mplaceholder\u001b[0m\u001b[0;34m(\u001b[0m\u001b[0mtf\u001b[0m\u001b[0;34m.\u001b[0m\u001b[0mfloat32\u001b[0m\u001b[0;34m,\u001b[0m \u001b[0;34m[\u001b[0m\u001b[0;32mNone\u001b[0m\u001b[0;34m,\u001b[0m \u001b[0mno_labels\u001b[0m\u001b[0;34m]\u001b[0m\u001b[0;34m)\u001b[0m\u001b[0;34m\u001b[0m\u001b[0;34m\u001b[0m\u001b[0m\n\u001b[1;32m      3\u001b[0m \u001b[0;31m# create model architecture\u001b[0m\u001b[0;34m\u001b[0m\u001b[0;34m\u001b[0m\u001b[0m\n\u001b[1;32m      4\u001b[0m \u001b[0;32mdef\u001b[0m \u001b[0mmultilayer_perceptron\u001b[0m\u001b[0;34m(\u001b[0m\u001b[0mx\u001b[0m\u001b[0;34m,\u001b[0m \u001b[0mno_classes\u001b[0m\u001b[0;34m,\u001b[0m \u001b[0mfirst_layer_neurons\u001b[0m\u001b[0;34m=\u001b[0m\u001b[0;36m256\u001b[0m\u001b[0;34m,\u001b[0m \u001b[0msecond_layer_neurons\u001b[0m\u001b[0;34m=\u001b[0m\u001b[0;36m128\u001b[0m\u001b[0;34m)\u001b[0m\u001b[0;34m:\u001b[0m\u001b[0;34m\u001b[0m\u001b[0;34m\u001b[0m\u001b[0m\n\u001b[1;32m      5\u001b[0m   \u001b[0mfirst_weight\u001b[0m \u001b[0;34m=\u001b[0m \u001b[0mtf\u001b[0m\u001b[0;34m.\u001b[0m\u001b[0mVariable\u001b[0m\u001b[0;34m(\u001b[0m\u001b[0mtf\u001b[0m\u001b[0;34m.\u001b[0m\u001b[0mrandom_uniform\u001b[0m\u001b[0;34m(\u001b[0m\u001b[0;34m[\u001b[0m\u001b[0mnew_dimension\u001b[0m\u001b[0;34m,\u001b[0m \u001b[0mfirst_layer_neurons\u001b[0m\u001b[0;34m]\u001b[0m\u001b[0;34m)\u001b[0m\u001b[0;34m)\u001b[0m\u001b[0;34m\u001b[0m\u001b[0;34m\u001b[0m\u001b[0m\n",
            "\u001b[0;31mAttributeError\u001b[0m: module 'tensorflow' has no attribute 'placeholder'"
          ]
        }
      ]
    },
    {
      "cell_type": "code",
      "source": [
        "import tensorflow as tf\n",
        "\n",
        "# Define input shape and number of labels\n",
        "input_shape = new_dimension  # Example value, set this to your input dimension\n",
        "no_labels = 10       # Example value, set this to the number of labels in your dataset\n",
        "\n",
        "# Create model architecture using the functional API\n",
        "def multilayer_perceptron(input_shape, no_classes, first_layer_neurons=256, second_layer_neurons=128):\n",
        "    inputs = tf.keras.Input(shape=input_shape)\n",
        "\n",
        "    # First layer\n",
        "    first_weight = tf.Variable(tf.random.uniform([input_shape[0], first_layer_neurons]))\n",
        "    first_bias = tf.Variable(tf.zeros([first_layer_neurons]))\n",
        "    first_layer_output = tf.nn.relu(tf.add(tf.matmul(inputs, first_weight), first_bias))\n",
        "\n",
        "    # Second layer\n",
        "    second_weight = tf.Variable(tf.random.uniform([first_layer_neurons, second_layer_neurons]))\n",
        "    second_bias = tf.Variable(tf.zeros([second_layer_neurons]))\n",
        "    second_layer_output = tf.nn.relu(tf.add(tf.matmul(first_layer_output, second_weight), second_bias))\n",
        "\n",
        "    # Output layer\n",
        "    final_weight = tf.Variable(tf.random.uniform([second_layer_neurons, no_classes]))\n",
        "    final_bias = tf.Variable(tf.zeros([no_classes]))\n",
        "    logits = tf.add(tf.matmul(second_layer_output, final_weight), final_bias)\n",
        "\n",
        "    return tf.keras.Model(inputs=inputs, outputs=logits)\n",
        "\n",
        "# Define the model\n",
        "model = multilayer_perceptron((new_dimension,), no_labels)\n",
        "\n",
        "# Compile the model\n",
        "model.compile(optimizer='adam', loss='categorical_crossentropy', metrics=['accuracy'])\n",
        "\n",
        "# Print the model summary\n",
        "model.summary()\n",
        "\n",
        "# Example data for demonstration (replace with actual data)\n",
        "import numpy as np\n",
        "X_train = np.random.rand(1000, new_dimension)\n",
        "Y_train = np.random.randint(0, 2, size=(1000, no_labels))\n",
        "\n",
        "# Train the model (replace with actual training data and labels)\n",
        "model.fit(X_train, Y_train, epochs=10, batch_size=32)\n"
      ],
      "metadata": {
        "colab": {
          "base_uri": "https://localhost:8080/"
        },
        "id": "YdaOVeGVmovR",
        "outputId": "aa2da82a-e9e3-45a4-e9d9-e403d7411fd2"
      },
      "execution_count": null,
      "outputs": [
        {
          "output_type": "stream",
          "name": "stderr",
          "text": [
            "WARNING:tensorflow:The following Variables were used in a Lambda layer's call (tf.linalg.matmul), but are not present in its tracked objects:   <tf.Variable 'Variable:0' shape=(784, 256) dtype=float32>. This is a strong indication that the Lambda layer should be rewritten as a subclassed Layer.\n",
            "WARNING:tensorflow:The following Variables were used in a Lambda layer's call (tf.math.add), but are not present in its tracked objects:   <tf.Variable 'Variable:0' shape=(256,) dtype=float32>. This is a strong indication that the Lambda layer should be rewritten as a subclassed Layer.\n",
            "WARNING:tensorflow:The following Variables were used in a Lambda layer's call (tf.linalg.matmul_1), but are not present in its tracked objects:   <tf.Variable 'Variable:0' shape=(256, 128) dtype=float32>. This is a strong indication that the Lambda layer should be rewritten as a subclassed Layer.\n",
            "WARNING:tensorflow:The following Variables were used in a Lambda layer's call (tf.math.add_1), but are not present in its tracked objects:   <tf.Variable 'Variable:0' shape=(128,) dtype=float32>. This is a strong indication that the Lambda layer should be rewritten as a subclassed Layer.\n",
            "WARNING:tensorflow:The following Variables were used in a Lambda layer's call (tf.linalg.matmul_2), but are not present in its tracked objects:   <tf.Variable 'Variable:0' shape=(128, 10) dtype=float32>. This is a strong indication that the Lambda layer should be rewritten as a subclassed Layer.\n",
            "WARNING:tensorflow:The following Variables were used in a Lambda layer's call (tf.math.add_2), but are not present in its tracked objects:   <tf.Variable 'Variable:0' shape=(10,) dtype=float32>. This is a strong indication that the Lambda layer should be rewritten as a subclassed Layer.\n"
          ]
        },
        {
          "output_type": "stream",
          "name": "stdout",
          "text": [
            "Model: \"model\"\n",
            "_________________________________________________________________\n",
            " Layer (type)                Output Shape              Param #   \n",
            "=================================================================\n",
            " input_2 (InputLayer)        [(None, 784)]             0         \n",
            "                                                                 \n",
            " tf.linalg.matmul (TFOpLamb  (None, 256)               0         \n",
            " da)                                                             \n",
            "                                                                 \n",
            " tf.math.add (TFOpLambda)    (None, 256)               0         \n",
            "                                                                 \n",
            " tf.nn.relu (TFOpLambda)     (None, 256)               0         \n",
            "                                                                 \n",
            " tf.linalg.matmul_1 (TFOpLa  (None, 128)               0         \n",
            " mbda)                                                           \n",
            "                                                                 \n",
            " tf.math.add_1 (TFOpLambda)  (None, 128)               0         \n",
            "                                                                 \n",
            " tf.nn.relu_1 (TFOpLambda)   (None, 128)               0         \n",
            "                                                                 \n",
            " tf.linalg.matmul_2 (TFOpLa  (None, 10)                0         \n",
            " mbda)                                                           \n",
            "                                                                 \n",
            " tf.math.add_2 (TFOpLambda)  (None, 10)                0         \n",
            "                                                                 \n",
            "=================================================================\n",
            "Total params: 0 (0.00 Byte)\n",
            "Trainable params: 0 (0.00 Byte)\n",
            "Non-trainable params: 0 (0.00 Byte)\n",
            "_________________________________________________________________\n",
            "Epoch 1/10\n",
            "32/32 [==============================] - 1s 5ms/step - loss: 11.4598 - accuracy: 0.0200\n",
            "Epoch 2/10\n",
            "32/32 [==============================] - 0s 5ms/step - loss: 11.4598 - accuracy: 0.0200\n",
            "Epoch 3/10\n",
            "32/32 [==============================] - 0s 5ms/step - loss: 11.4598 - accuracy: 0.0200\n",
            "Epoch 4/10\n",
            "32/32 [==============================] - 0s 3ms/step - loss: 11.4598 - accuracy: 0.0200\n",
            "Epoch 5/10\n",
            "32/32 [==============================] - 0s 3ms/step - loss: 11.4598 - accuracy: 0.0200\n",
            "Epoch 6/10\n",
            "32/32 [==============================] - 0s 3ms/step - loss: 11.4598 - accuracy: 0.0200\n",
            "Epoch 7/10\n",
            "32/32 [==============================] - 0s 2ms/step - loss: 11.4598 - accuracy: 0.0200\n",
            "Epoch 8/10\n",
            "32/32 [==============================] - 0s 3ms/step - loss: 11.4598 - accuracy: 0.0200\n",
            "Epoch 9/10\n",
            "32/32 [==============================] - 0s 3ms/step - loss: 11.4598 - accuracy: 0.0200\n",
            "Epoch 10/10\n",
            "32/32 [==============================] - 0s 3ms/step - loss: 11.4598 - accuracy: 0.0200\n"
          ]
        },
        {
          "output_type": "execute_result",
          "data": {
            "text/plain": [
              "<keras.src.callbacks.History at 0x7b833c99b700>"
            ]
          },
          "metadata": {},
          "execution_count": 11
        }
      ]
    },
    {
      "cell_type": "code",
      "source": [
        "#Building a Sequential Feed Forward Network in Keras\n",
        "from tensorflow.keras.layers import Dense\n",
        "from tensorflow.keras.models import Sequential\n",
        "model = Sequential()\n",
        "model.add(Dense(256, activation='relu', input_shape=(new_dimension,)))\n",
        "model.add(Dense(128, activation='relu'))\n",
        "model.add(Dense(no_labels, activation='softmax'))\n",
        "model.compile(optimizer='adam', loss=tf.keras.losses.categorical_crossentropy,\n",
        "metrics=['accuracy'])\n",
        "history = model.fit(x_train, y_train, validation_data=(x_val, y_val), epochs=20, batch_size=1)\n",
        "test_loss, test_accuracy = model.evaluate(test_images, y_test)\n",
        "print('Test loss: {}'.format(test_loss))\n",
        "print('Test accuracy: {}'.format(test_accuracy))"
      ],
      "metadata": {
        "id": "TSmfX4vkooGg",
        "colab": {
          "base_uri": "https://localhost:8080/"
        },
        "outputId": "0b9449e7-6167-4a33-e0c7-f542e915c097"
      },
      "execution_count": null,
      "outputs": [
        {
          "output_type": "stream",
          "name": "stdout",
          "text": [
            "Epoch 1/20\n",
            "50000/50000 [==============================] - 271s 5ms/step - loss: 0.2584 - accuracy: 0.9252 - val_loss: 0.1499 - val_accuracy: 0.9560\n",
            "Epoch 2/20\n",
            "50000/50000 [==============================] - 264s 5ms/step - loss: 0.1714 - accuracy: 0.9581 - val_loss: 0.1952 - val_accuracy: 0.9569\n",
            "Epoch 3/20\n",
            "50000/50000 [==============================] - 262s 5ms/step - loss: 0.1543 - accuracy: 0.9652 - val_loss: 0.1711 - val_accuracy: 0.9694\n",
            "Epoch 4/20\n",
            "50000/50000 [==============================] - 257s 5ms/step - loss: 0.1435 - accuracy: 0.9685 - val_loss: 0.2085 - val_accuracy: 0.9634\n",
            "Epoch 5/20\n",
            "50000/50000 [==============================] - 259s 5ms/step - loss: 0.1438 - accuracy: 0.9704 - val_loss: 0.2207 - val_accuracy: 0.9659\n",
            "Epoch 6/20\n",
            "50000/50000 [==============================] - 255s 5ms/step - loss: 0.1229 - accuracy: 0.9748 - val_loss: 0.1998 - val_accuracy: 0.9697\n",
            "Epoch 7/20\n",
            "50000/50000 [==============================] - 250s 5ms/step - loss: 0.1147 - accuracy: 0.9763 - val_loss: 0.2334 - val_accuracy: 0.9704\n",
            "Epoch 8/20\n",
            "50000/50000 [==============================] - 259s 5ms/step - loss: 0.1145 - accuracy: 0.9777 - val_loss: 0.2516 - val_accuracy: 0.9676\n",
            "Epoch 9/20\n",
            "50000/50000 [==============================] - 251s 5ms/step - loss: 0.1176 - accuracy: 0.9780 - val_loss: 0.2762 - val_accuracy: 0.9655\n",
            "Epoch 10/20\n",
            "50000/50000 [==============================] - 251s 5ms/step - loss: 0.1082 - accuracy: 0.9798 - val_loss: 0.3773 - val_accuracy: 0.9707\n",
            "Epoch 11/20\n",
            "50000/50000 [==============================] - 257s 5ms/step - loss: 0.1125 - accuracy: 0.9807 - val_loss: 0.3908 - val_accuracy: 0.9696\n",
            "Epoch 12/20\n",
            "50000/50000 [==============================] - 255s 5ms/step - loss: 0.0977 - accuracy: 0.9818 - val_loss: 0.3671 - val_accuracy: 0.9664\n",
            "Epoch 13/20\n",
            "50000/50000 [==============================] - 254s 5ms/step - loss: 0.0996 - accuracy: 0.9821 - val_loss: 0.4754 - val_accuracy: 0.9583\n",
            "Epoch 14/20\n",
            "50000/50000 [==============================] - 254s 5ms/step - loss: 0.1047 - accuracy: 0.9830 - val_loss: 0.3791 - val_accuracy: 0.9738\n",
            "Epoch 15/20\n",
            "50000/50000 [==============================] - 265s 5ms/step - loss: 0.1016 - accuracy: 0.9829 - val_loss: 0.4636 - val_accuracy: 0.9681\n",
            "Epoch 16/20\n",
            "50000/50000 [==============================] - 260s 5ms/step - loss: 0.0946 - accuracy: 0.9837 - val_loss: 0.4584 - val_accuracy: 0.9702\n",
            "Epoch 17/20\n",
            "50000/50000 [==============================] - 265s 5ms/step - loss: 0.1099 - accuracy: 0.9841 - val_loss: 0.4845 - val_accuracy: 0.9698\n",
            "Epoch 18/20\n",
            "50000/50000 [==============================] - 273s 5ms/step - loss: 0.1031 - accuracy: 0.9843 - val_loss: 0.4755 - val_accuracy: 0.9736\n",
            "Epoch 19/20\n",
            "50000/50000 [==============================] - 280s 6ms/step - loss: 0.0970 - accuracy: 0.9850 - val_loss: 0.4862 - val_accuracy: 0.9661\n",
            "Epoch 20/20\n",
            "50000/50000 [==============================] - 274s 5ms/step - loss: 0.0996 - accuracy: 0.9860 - val_loss: 0.4147 - val_accuracy: 0.9697\n",
            "313/313 [==============================] - 1s 2ms/step - loss: 0.4597 - accuracy: 0.9706\n",
            "Test loss: 0.45969897508621216\n",
            "Test accuracy: 0.9706000089645386\n"
          ]
        }
      ]
    },
    {
      "cell_type": "code",
      "source": [
        "plt.figure()\n",
        "plt.plot(history.history['loss'], 'blue')\n",
        "plt.plot(history.history['val_loss'], 'red')\n",
        "plt.legend(['Training loss', 'Validation Loss'])\n",
        "plt.xlabel('Epochs')\n",
        "plt.ylabel('Loss')\n",
        "plt.title('Loss Curves - before regularisation')"
      ],
      "metadata": {
        "colab": {
          "base_uri": "https://localhost:8080/",
          "height": 489
        },
        "id": "t0Agr1fapY58",
        "outputId": "429faf65-12ed-4bd3-aebe-63bde5d46a67"
      },
      "execution_count": null,
      "outputs": [
        {
          "output_type": "execute_result",
          "data": {
            "text/plain": [
              "Text(0.5, 1.0, 'Loss Curves - before regularisation')"
            ]
          },
          "metadata": {},
          "execution_count": 15
        },
        {
          "output_type": "display_data",
          "data": {
            "text/plain": [
              "<Figure size 640x480 with 1 Axes>"
            ],
            "image/png": "[encoded data removed]"
          },
          "metadata": {}
        }
      ]
    },
    {
      "cell_type": "code",
      "source": [
        "#Although the validation and training loss seem great, we can see that the validation #loss i\n",
        "from tensorflow.keras.layers import Dropout\n",
        "reg_model = Sequential()\n",
        "reg_model.add(Dense(256, activation='relu', input_shape=(new_dimension,)))\n",
        "reg_model.add(Dropout(0.4))\n",
        "reg_model.add(Dense(128, activation='relu'))\n",
        "reg_model.add(Dropout(0.4))\n",
        "reg_model.add(Dense(no_labels, activation='softmax'))\n",
        "reg_model.compile(optimizer='adam', loss=tf.keras.losses.categorical_crossentropy,\n",
        "metrics=['accuracy'])\n",
        "reg_history = reg_model.fit(x_train, y_train, validation_data=(x_val, y_val),\n",
        "epochs=20, batch_size=1000)\n",
        "test_loss, test_accuracy = reg_model.evaluate(test_images, y_test)\n",
        "print('Test loss: {}'.format(test_loss))\n",
        "print('Test accuracy: {}'.format(test_accuracy))\n",
        "test_loss, test_accuracy = reg_model.evaluate(test_images, y_test)\n",
        "print('Test loss: {}'.format(test_loss))\n",
        "print('Test accuracy: {}'.format(test_accuracy))\n",
        "plt.figure()\n",
        "plt.plot(reg_history.history['loss'], 'blue')\n",
        "plt.plot(reg_history.history['val_loss'], 'red')\n",
        "plt.legend(['Training loss', 'Validation Loss'])\n",
        "plt.xlabel('Epochs')\n",
        "plt.ylabel('Loss')\n",
        "plt.title('Loss Curves - after regularisation')"
      ],
      "metadata": {
        "colab": {
          "base_uri": "https://localhost:8080/",
          "height": 1000
        },
        "id": "Vnmoh0UP_CU7",
        "outputId": "5ff28b1f-151e-4854-fa68-fe6b11f659e3"
      },
      "execution_count": null,
      "outputs": [
        {
          "output_type": "stream",
          "name": "stdout",
          "text": [
            "Epoch 1/20\n",
            "50/50 [==============================] - 3s 40ms/step - loss: 0.9840 - accuracy: 0.6888 - val_loss: 0.2920 - val_accuracy: 0.9159\n",
            "Epoch 2/20\n",
            "50/50 [==============================] - 2s 32ms/step - loss: 0.3779 - accuracy: 0.8895 - val_loss: 0.2011 - val_accuracy: 0.9425\n",
            "Epoch 3/20\n",
            "50/50 [==============================] - 3s 54ms/step - loss: 0.2847 - accuracy: 0.9166 - val_loss: 0.1617 - val_accuracy: 0.9548\n",
            "Epoch 4/20\n",
            "50/50 [==============================] - 2s 46ms/step - loss: 0.2382 - accuracy: 0.9305 - val_loss: 0.1384 - val_accuracy: 0.9612\n",
            "Epoch 5/20\n",
            "50/50 [==============================] - 2s 33ms/step - loss: 0.2024 - accuracy: 0.9413 - val_loss: 0.1218 - val_accuracy: 0.9646\n",
            "Epoch 6/20\n",
            "50/50 [==============================] - 2s 33ms/step - loss: 0.1772 - accuracy: 0.9482 - val_loss: 0.1108 - val_accuracy: 0.9684\n",
            "Epoch 7/20\n",
            "50/50 [==============================] - 2s 36ms/step - loss: 0.1556 - accuracy: 0.9541 - val_loss: 0.1066 - val_accuracy: 0.9682\n",
            "Epoch 8/20\n",
            "50/50 [==============================] - 2s 32ms/step - loss: 0.1425 - accuracy: 0.9570 - val_loss: 0.0975 - val_accuracy: 0.9712\n",
            "Epoch 9/20\n",
            "50/50 [==============================] - 2s 32ms/step - loss: 0.1307 - accuracy: 0.9615 - val_loss: 0.0912 - val_accuracy: 0.9716\n",
            "Epoch 10/20\n",
            "50/50 [==============================] - 2s 44ms/step - loss: 0.1208 - accuracy: 0.9647 - val_loss: 0.0872 - val_accuracy: 0.9741\n",
            "Epoch 11/20\n",
            "50/50 [==============================] - 3s 55ms/step - loss: 0.1109 - accuracy: 0.9664 - val_loss: 0.0872 - val_accuracy: 0.9736\n",
            "Epoch 12/20\n",
            "50/50 [==============================] - 2s 32ms/step - loss: 0.1055 - accuracy: 0.9688 - val_loss: 0.0850 - val_accuracy: 0.9747\n",
            "Epoch 13/20\n",
            "50/50 [==============================] - 2s 32ms/step - loss: 0.0988 - accuracy: 0.9708 - val_loss: 0.0800 - val_accuracy: 0.9765\n",
            "Epoch 14/20\n",
            "50/50 [==============================] - 2s 31ms/step - loss: 0.0929 - accuracy: 0.9724 - val_loss: 0.0783 - val_accuracy: 0.9766\n",
            "Epoch 15/20\n",
            "50/50 [==============================] - 2s 32ms/step - loss: 0.0859 - accuracy: 0.9737 - val_loss: 0.0778 - val_accuracy: 0.9773\n",
            "Epoch 16/20\n",
            "50/50 [==============================] - 2s 32ms/step - loss: 0.0852 - accuracy: 0.9748 - val_loss: 0.0757 - val_accuracy: 0.9786\n",
            "Epoch 17/20\n",
            "50/50 [==============================] - 2s 32ms/step - loss: 0.0776 - accuracy: 0.9758 - val_loss: 0.0748 - val_accuracy: 0.9785\n",
            "Epoch 18/20\n",
            "50/50 [==============================] - 3s 54ms/step - loss: 0.0723 - accuracy: 0.9779 - val_loss: 0.0725 - val_accuracy: 0.9794\n",
            "Epoch 19/20\n",
            "50/50 [==============================] - 3s 59ms/step - loss: 0.0708 - accuracy: 0.9780 - val_loss: 0.0730 - val_accuracy: 0.9795\n",
            "Epoch 20/20\n",
            "50/50 [==============================] - 2s 48ms/step - loss: 0.0658 - accuracy: 0.9794 - val_loss: 0.0726 - val_accuracy: 0.9792\n",
            "313/313 [==============================] - 1s 3ms/step - loss: 0.0709 - accuracy: 0.9785\n",
            "Test loss: 0.07088582962751389\n",
            "Test accuracy: 0.9785000085830688\n",
            "313/313 [==============================] - 1s 2ms/step - loss: 0.0709 - accuracy: 0.9785\n",
            "Test loss: 0.07088582962751389\n",
            "Test accuracy: 0.9785000085830688\n"
          ]
        },
        {
          "output_type": "execute_result",
          "data": {
            "text/plain": [
              "Text(0.5, 1.0, 'Loss Curves - after regularisation')"
            ]
          },
          "metadata": {},
          "execution_count": 16
        },
        {
          "output_type": "display_data",
          "data": {
            "text/plain": [
              "<Figure size 640x480 with 1 Axes>"
            ],
            "image/png": "[encoded data removed]"
          },
          "metadata": {}
        }
      ]
    },
    {
      "cell_type": "code",
      "source": [],
      "metadata": {
        "id": "kzod9PV7_t3k"
      },
      "execution_count": null,
      "outputs": []
    }
  ]
}